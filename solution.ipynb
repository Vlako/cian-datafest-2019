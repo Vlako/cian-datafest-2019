{
 "cells": [
  {
   "cell_type": "code",
   "execution_count": 1,
   "metadata": {},
   "outputs": [],
   "source": [
    "from scipy.misc import imread, imresize, imrotate\n",
    "import numpy as np\n",
    "from os import listdir\n",
    "\n",
    "import matplotlib.pyplot as plt\n",
    "import pandas as pd\n",
    "\n",
    "\n",
    "# from sklearn.metrics import roc_auc_score\n",
    "%matplotlib inline"
   ]
  },
  {
   "cell_type": "code",
   "execution_count": 2,
   "metadata": {},
   "outputs": [],
   "source": [
    "image_size = 25"
   ]
  },
  {
   "cell_type": "code",
   "execution_count": 3,
   "metadata": {},
   "outputs": [
    {
     "name": "stderr",
     "output_type": "stream",
     "text": [
      "/Users/cul8r/PycharmProjects/Timmy_runners/venv/lib/python3.6/site-packages/ipykernel_launcher.py:4: DeprecationWarning: `imread` is deprecated!\n",
      "`imread` is deprecated in SciPy 1.0.0, and will be removed in 1.2.0.\n",
      "Use ``imageio.imread`` instead.\n",
      "  after removing the cwd from sys.path.\n",
      "/Users/cul8r/PycharmProjects/Timmy_runners/venv/lib/python3.6/site-packages/ipykernel_launcher.py:4: DeprecationWarning: `imresize` is deprecated!\n",
      "`imresize` is deprecated in SciPy 1.0.0, and will be removed in 1.3.0.\n",
      "Use Pillow instead: ``numpy.array(Image.fromarray(arr).resize())``.\n",
      "  after removing the cwd from sys.path.\n",
      "/Users/cul8r/PycharmProjects/Timmy_runners/venv/lib/python3.6/site-packages/ipykernel_launcher.py:7: DeprecationWarning: `imread` is deprecated!\n",
      "`imread` is deprecated in SciPy 1.0.0, and will be removed in 1.2.0.\n",
      "Use ``imageio.imread`` instead.\n",
      "  import sys\n",
      "/Users/cul8r/PycharmProjects/Timmy_runners/venv/lib/python3.6/site-packages/ipykernel_launcher.py:7: DeprecationWarning: `imresize` is deprecated!\n",
      "`imresize` is deprecated in SciPy 1.0.0, and will be removed in 1.3.0.\n",
      "Use Pillow instead: ``numpy.array(Image.fromarray(arr).resize())``.\n",
      "  import sys\n"
     ]
    }
   ],
   "source": [
    "test_images = listdir('cian-datafest-2019/test/')\n",
    "test_rgb = [imresize(imread('cian-datafest-2019/test/'+i, mode='RGB'), \n",
    "                 (image_size, image_size)) \n",
    "         for i in test_images] \n",
    "test_hsv = [imresize(imread('cian-datafest-2019/test/'+i, mode='HSV'), \n",
    "                 (image_size, image_size)) \n",
    "         for i in test_images] "
   ]
  },
  {
   "cell_type": "code",
   "execution_count": 4,
   "metadata": {},
   "outputs": [
    {
     "name": "stderr",
     "output_type": "stream",
     "text": [
      "/Users/cul8r/PycharmProjects/Timmy_runners/venv/lib/python3.6/site-packages/ipykernel_launcher.py:3: DeprecationWarning: `imread` is deprecated!\n",
      "`imread` is deprecated in SciPy 1.0.0, and will be removed in 1.2.0.\n",
      "Use ``imageio.imread`` instead.\n",
      "  This is separate from the ipykernel package so we can avoid doing imports until\n",
      "/Users/cul8r/PycharmProjects/Timmy_runners/venv/lib/python3.6/site-packages/ipykernel_launcher.py:3: DeprecationWarning: `imresize` is deprecated!\n",
      "`imresize` is deprecated in SciPy 1.0.0, and will be removed in 1.3.0.\n",
      "Use Pillow instead: ``numpy.array(Image.fromarray(arr).resize())``.\n",
      "  This is separate from the ipykernel package so we can avoid doing imports until\n",
      "/Users/cul8r/PycharmProjects/Timmy_runners/venv/lib/python3.6/site-packages/ipykernel_launcher.py:7: DeprecationWarning: `imread` is deprecated!\n",
      "`imread` is deprecated in SciPy 1.0.0, and will be removed in 1.2.0.\n",
      "Use ``imageio.imread`` instead.\n",
      "  import sys\n",
      "/Users/cul8r/PycharmProjects/Timmy_runners/venv/lib/python3.6/site-packages/ipykernel_launcher.py:7: DeprecationWarning: `imresize` is deprecated!\n",
      "`imresize` is deprecated in SciPy 1.0.0, and will be removed in 1.3.0.\n",
      "Use Pillow instead: ``numpy.array(Image.fromarray(arr).resize())``.\n",
      "  import sys\n",
      "/Users/cul8r/PycharmProjects/Timmy_runners/venv/lib/python3.6/site-packages/ipykernel_launcher.py:11: DeprecationWarning: `imread` is deprecated!\n",
      "`imread` is deprecated in SciPy 1.0.0, and will be removed in 1.2.0.\n",
      "Use ``imageio.imread`` instead.\n",
      "  # This is added back by InteractiveShellApp.init_path()\n",
      "/Users/cul8r/PycharmProjects/Timmy_runners/venv/lib/python3.6/site-packages/ipykernel_launcher.py:11: DeprecationWarning: `imresize` is deprecated!\n",
      "`imresize` is deprecated in SciPy 1.0.0, and will be removed in 1.3.0.\n",
      "Use Pillow instead: ``numpy.array(Image.fromarray(arr).resize())``.\n",
      "  # This is added back by InteractiveShellApp.init_path()\n",
      "/Users/cul8r/PycharmProjects/Timmy_runners/venv/lib/python3.6/site-packages/ipykernel_launcher.py:15: DeprecationWarning: `imread` is deprecated!\n",
      "`imread` is deprecated in SciPy 1.0.0, and will be removed in 1.2.0.\n",
      "Use ``imageio.imread`` instead.\n",
      "  from ipykernel import kernelapp as app\n",
      "/Users/cul8r/PycharmProjects/Timmy_runners/venv/lib/python3.6/site-packages/ipykernel_launcher.py:15: DeprecationWarning: `imresize` is deprecated!\n",
      "`imresize` is deprecated in SciPy 1.0.0, and will be removed in 1.3.0.\n",
      "Use Pillow instead: ``numpy.array(Image.fromarray(arr).resize())``.\n",
      "  from ipykernel import kernelapp as app\n"
     ]
    }
   ],
   "source": [
    "train_rgb = [imresize(imread('cian-datafest-2019/train/indoor/'+i, mode='RGB'), \n",
    "                  (image_size, image_size))\n",
    "         for i in listdir('cian-datafest-2019/train/indoor/')] \n",
    "\n",
    "train_rgb += [imresize(np.fliplr(imread('cian-datafest-2019/train/indoor/'+i, mode='RGB')), \n",
    "                  (image_size, image_size))\n",
    "         for i in listdir('cian-datafest-2019/train/indoor/')] \n",
    "\n",
    "train_rgb += [imresize(imread('cian-datafest-2019/train/outdoor//'+i, mode='RGB'), \n",
    "                   (image_size, image_size))\n",
    "         for i in listdir('cian-datafest-2019/train/outdoor/')]\n",
    "\n",
    "train_rgb += [imresize(np.fliplr(imread('cian-datafest-2019/train/outdoor//'+i, mode='RGB')), \n",
    "                   (image_size, image_size))\n",
    "         for i in listdir('cian-datafest-2019/train/outdoor/')]\n",
    "\n",
    "train_rgb += test_rgb"
   ]
  },
  {
   "cell_type": "code",
   "execution_count": 5,
   "metadata": {},
   "outputs": [
    {
     "name": "stderr",
     "output_type": "stream",
     "text": [
      "/Users/cul8r/PycharmProjects/Timmy_runners/venv/lib/python3.6/site-packages/ipykernel_launcher.py:3: DeprecationWarning: `imread` is deprecated!\n",
      "`imread` is deprecated in SciPy 1.0.0, and will be removed in 1.2.0.\n",
      "Use ``imageio.imread`` instead.\n",
      "  This is separate from the ipykernel package so we can avoid doing imports until\n",
      "/Users/cul8r/PycharmProjects/Timmy_runners/venv/lib/python3.6/site-packages/ipykernel_launcher.py:3: DeprecationWarning: `imresize` is deprecated!\n",
      "`imresize` is deprecated in SciPy 1.0.0, and will be removed in 1.3.0.\n",
      "Use Pillow instead: ``numpy.array(Image.fromarray(arr).resize())``.\n",
      "  This is separate from the ipykernel package so we can avoid doing imports until\n",
      "/Users/cul8r/PycharmProjects/Timmy_runners/venv/lib/python3.6/site-packages/ipykernel_launcher.py:6: DeprecationWarning: `imread` is deprecated!\n",
      "`imread` is deprecated in SciPy 1.0.0, and will be removed in 1.2.0.\n",
      "Use ``imageio.imread`` instead.\n",
      "  \n",
      "/Users/cul8r/PycharmProjects/Timmy_runners/venv/lib/python3.6/site-packages/ipykernel_launcher.py:6: DeprecationWarning: `imresize` is deprecated!\n",
      "`imresize` is deprecated in SciPy 1.0.0, and will be removed in 1.3.0.\n",
      "Use Pillow instead: ``numpy.array(Image.fromarray(arr).resize())``.\n",
      "  \n",
      "/Users/cul8r/PycharmProjects/Timmy_runners/venv/lib/python3.6/site-packages/ipykernel_launcher.py:10: DeprecationWarning: `imread` is deprecated!\n",
      "`imread` is deprecated in SciPy 1.0.0, and will be removed in 1.2.0.\n",
      "Use ``imageio.imread`` instead.\n",
      "  # Remove the CWD from sys.path while we load stuff.\n",
      "/Users/cul8r/PycharmProjects/Timmy_runners/venv/lib/python3.6/site-packages/ipykernel_launcher.py:10: DeprecationWarning: `imresize` is deprecated!\n",
      "`imresize` is deprecated in SciPy 1.0.0, and will be removed in 1.3.0.\n",
      "Use Pillow instead: ``numpy.array(Image.fromarray(arr).resize())``.\n",
      "  # Remove the CWD from sys.path while we load stuff.\n",
      "/Users/cul8r/PycharmProjects/Timmy_runners/venv/lib/python3.6/site-packages/ipykernel_launcher.py:15: DeprecationWarning: `imread` is deprecated!\n",
      "`imread` is deprecated in SciPy 1.0.0, and will be removed in 1.2.0.\n",
      "Use ``imageio.imread`` instead.\n",
      "  from ipykernel import kernelapp as app\n",
      "/Users/cul8r/PycharmProjects/Timmy_runners/venv/lib/python3.6/site-packages/ipykernel_launcher.py:15: DeprecationWarning: `imresize` is deprecated!\n",
      "`imresize` is deprecated in SciPy 1.0.0, and will be removed in 1.3.0.\n",
      "Use Pillow instead: ``numpy.array(Image.fromarray(arr).resize())``.\n",
      "  from ipykernel import kernelapp as app\n"
     ]
    }
   ],
   "source": [
    "train_hsv = [imresize(imread('cian-datafest-2019/train/indoor/'+i, mode='HSV'), \n",
    "                  (image_size, image_size))\n",
    "         for i in listdir('cian-datafest-2019/train/indoor/')] \n",
    "train_hsv += [imresize(np.fliplr(imread('cian-datafest-2019/train/indoor/'+i, mode='HSV')), \n",
    "                  (image_size, image_size))\n",
    "         for i in listdir('cian-datafest-2019/train/indoor/')] \n",
    "\n",
    "train_hsv += [imresize(imread('cian-datafest-2019/train/outdoor//'+i, mode='HSV'), \n",
    "                   (image_size, image_size))\n",
    "         for i in listdir('cian-datafest-2019/train/outdoor/')]\n",
    "\n",
    "\n",
    "train_hsv += [imresize(np.fliplr(imread('cian-datafest-2019/train/outdoor//'+i, mode='HSV')), \n",
    "                   (image_size, image_size))\n",
    "         for i in listdir('cian-datafest-2019/train/outdoor/')]\n",
    "\n",
    "train_hsv += test_hsv"
   ]
  },
  {
   "cell_type": "code",
   "execution_count": 6,
   "metadata": {},
   "outputs": [
    {
     "name": "stderr",
     "output_type": "stream",
     "text": [
      "/Users/cul8r/PycharmProjects/Timmy_runners/venv/lib/python3.6/site-packages/ipykernel_launcher.py:1: DeprecationWarning: `imread` is deprecated!\n",
      "`imread` is deprecated in SciPy 1.0.0, and will be removed in 1.2.0.\n",
      "Use ``imageio.imread`` instead.\n",
      "  \"\"\"Entry point for launching an IPython kernel.\n",
      "/Users/cul8r/PycharmProjects/Timmy_runners/venv/lib/python3.6/site-packages/ipykernel_launcher.py:1: DeprecationWarning: `imresize` is deprecated!\n",
      "`imresize` is deprecated in SciPy 1.0.0, and will be removed in 1.3.0.\n",
      "Use Pillow instead: ``numpy.array(Image.fromarray(arr).resize())``.\n",
      "  \"\"\"Entry point for launching an IPython kernel.\n"
     ]
    },
    {
     "data": {
      "text/plain": [
       "<matplotlib.image.AxesImage at 0x11be7c128>"
      ]
     },
     "execution_count": 6,
     "metadata": {},
     "output_type": "execute_result"
    },
    {
     "data": {
      "image/png": "[encoded data removed]",
      "text/plain": [
       "<Figure size 432x288 with 1 Axes>"
      ]
     },
     "metadata": {
      "needs_background": "light"
     },
     "output_type": "display_data"
    }
   ],
   "source": [
    "plt.imshow(imresize(imread('cian-datafest-2019/train/indoor/18854.jpg', mode='RGB'), (25, 25))[:,:])"
   ]
  },
  {
   "cell_type": "code",
   "execution_count": 7,
   "metadata": {},
   "outputs": [],
   "source": [
    "y_train = [0] * len(listdir('cian-datafest-2019/train/outdoor/')) * 2 + [1] * len(listdir('cian-datafest-2019/train/indoor/')) * 2"
   ]
  },
  {
   "cell_type": "code",
   "execution_count": 8,
   "metadata": {},
   "outputs": [],
   "source": [
    "train_rgb = np.array(train_rgb).astype(np.float32)\n",
    "train_hsv = np.array(train_hsv).astype(np.float32)"
   ]
  },
  {
   "cell_type": "code",
   "execution_count": 9,
   "metadata": {},
   "outputs": [
    {
     "data": {
      "text/plain": [
       "(138304, 25, 25, 3)"
      ]
     },
     "execution_count": 9,
     "metadata": {},
     "output_type": "execute_result"
    }
   ],
   "source": [
    "train_rgb.shape"
   ]
  },
  {
   "cell_type": "code",
   "execution_count": 10,
   "metadata": {},
   "outputs": [],
   "source": [
    "# features = np.array([train.mean(axis=(1,2, 3)), train.min(axis=(1,2, 3)), train.max(axis=(1,2, 3)), \n",
    "#                         train[:, :, :, 0].mean(axis=(1, 2)), train[:, :, :, 0].min(axis=(1, 2)), train[:, :, :, 0].max(axis=(1, 2)),\n",
    "#                         train[:, :, :, 1].mean(axis=(1, 2)), train[:, :, :, 1].min(axis=(1, 2)), train[:, :, :, 1].max(axis=(1, 2)),\n",
    "#                         train[:, :, :, 2].mean(axis=(1, 2)), train[:, :, :, 2].min(axis=(1, 2)), train[:, :, :, 2].max(axis=(1, 2))]).T"
   ]
  },
  {
   "cell_type": "code",
   "execution_count": null,
   "metadata": {},
   "outputs": [],
   "source": []
  },
  {
   "cell_type": "code",
   "execution_count": 11,
   "metadata": {},
   "outputs": [],
   "source": [
    "train_rgb = [i.reshape((image_size*image_size*3))  for i in train_rgb]\n",
    "train_hsv = [i.reshape((image_size*image_size*3))  for i in train_hsv]"
   ]
  },
  {
   "cell_type": "code",
   "execution_count": 12,
   "metadata": {},
   "outputs": [],
   "source": [
    "train_rgb = np.array(train_rgb)\n",
    "train_hsv = np.array(train_hsv)"
   ]
  },
  {
   "cell_type": "code",
   "execution_count": 13,
   "metadata": {},
   "outputs": [],
   "source": [
    "mean_rgb = train_rgb.mean(axis=0)\n",
    "std_rgb = train_rgb.std(axis=0)\n",
    "train_rgb -= mean_rgb\n",
    "train_rgb /= std_rgb"
   ]
  },
  {
   "cell_type": "code",
   "execution_count": 14,
   "metadata": {},
   "outputs": [],
   "source": [
    "mean_hsv = train_hsv.mean(axis=0)\n",
    "std_hsv = train_hsv.std(axis=0)\n",
    "train_hsv -= mean_hsv\n",
    "train_hsv /= std_hsv"
   ]
  },
  {
   "cell_type": "code",
   "execution_count": 15,
   "metadata": {},
   "outputs": [],
   "source": [
    "def pca(X):\n",
    "  # Data matrix X, assumes 0-centered\n",
    "    n, m = X.shape\n",
    "  # Compute covariance matrix\n",
    "    C = np.dot(X.T, X) / (n-1)\n",
    "  # Eigen decomposition\n",
    "    eigen_vals, eigen_vecs = np.linalg.eig(C)\n",
    "  # Project X onto PC space\n",
    "    X_pca = np.dot(X, eigen_vecs)\n",
    "    return X_pca"
   ]
  },
  {
   "cell_type": "code",
   "execution_count": 16,
   "metadata": {},
   "outputs": [
    {
     "data": {
      "text/plain": [
       "(138304, 1875)"
      ]
     },
     "execution_count": 16,
     "metadata": {},
     "output_type": "execute_result"
    }
   ],
   "source": [
    "train_rgb.shape"
   ]
  },
  {
   "cell_type": "code",
   "execution_count": 17,
   "metadata": {},
   "outputs": [],
   "source": [
    "pca_train_rgb = pca(train_rgb)[:, :250]\n",
    "pca_train_hsv = pca(train_hsv)[:, :250]"
   ]
  },
  {
   "cell_type": "code",
   "execution_count": null,
   "metadata": {},
   "outputs": [],
   "source": []
  },
  {
   "cell_type": "code",
   "execution_count": 18,
   "metadata": {},
   "outputs": [],
   "source": [
    "pca_test_rgb = pca_train_rgb[len(y_train):]\n",
    "pca_train_rgb = pca_train_rgb[:len(y_train)]\n",
    "\n",
    "pca_test_hsv = pca_train_hsv[len(y_train):]\n",
    "pca_train_hsv = pca_train_hsv[:len(y_train)]"
   ]
  },
  {
   "cell_type": "code",
   "execution_count": 19,
   "metadata": {},
   "outputs": [
    {
     "data": {
      "text/plain": [
       "(110644, 250)"
      ]
     },
     "execution_count": 19,
     "metadata": {},
     "output_type": "execute_result"
    }
   ],
   "source": [
    "pca_train_rgb.shape"
   ]
  },
  {
   "cell_type": "code",
   "execution_count": 20,
   "metadata": {},
   "outputs": [],
   "source": [
    "# mean = features.mean(axis=0)\n",
    "# std = features.std(axis=0)\n",
    "\n",
    "# features -= mean\n",
    "# features /= std\n"
   ]
  },
  {
   "cell_type": "code",
   "execution_count": 21,
   "metadata": {},
   "outputs": [],
   "source": [
    "# features_test = features[len(y_train):]\n",
    "# features_train = features[:len(y_train)]"
   ]
  },
  {
   "cell_type": "code",
   "execution_count": 22,
   "metadata": {},
   "outputs": [],
   "source": [
    "coef = np.linalg.lstsq(np.hstack([pca_train_rgb, pca_train_hsv]), y_train, rcond=True)[0]"
   ]
  },
  {
   "cell_type": "code",
   "execution_count": 23,
   "metadata": {},
   "outputs": [],
   "source": [
    "# all_train = np.hstack([pca_train, features_train])"
   ]
  },
  {
   "cell_type": "code",
   "execution_count": 24,
   "metadata": {},
   "outputs": [],
   "source": [
    "# all_train.shape"
   ]
  },
  {
   "cell_type": "markdown",
   "metadata": {},
   "source": [
    "# val"
   ]
  },
  {
   "cell_type": "code",
   "execution_count": 25,
   "metadata": {},
   "outputs": [],
   "source": [
    "# idx = list(range(pca_train_rgb.shape[0]))\n",
    "# np.random.shuffle(idx)"
   ]
  },
  {
   "cell_type": "code",
   "execution_count": 26,
   "metadata": {},
   "outputs": [],
   "source": [
    "# pca_train_rgb = pca_train_rgb[idx]\n",
    "# pca_train_hsv = pca_train_hsv[idx]\n",
    "# y_train = np.array(y_train)[idx]"
   ]
  },
  {
   "cell_type": "code",
   "execution_count": 27,
   "metadata": {},
   "outputs": [],
   "source": [
    "# pca_val_rgb = pca_train_rgb[-10000:]\n",
    "# pca_val_hsv = pca_train_hsv[-10000:]\n",
    "# y_val = y_train[-10000:]\n",
    "\n",
    "# pca_train_rgb = pca_train_rgb[:-10000]\n",
    "# pca_train_hsv = pca_train_hsv[:-10000]\n",
    "# y_train = y_train[:-10000]"
   ]
  },
  {
   "cell_type": "code",
   "execution_count": 28,
   "metadata": {},
   "outputs": [],
   "source": [
    "# coef = np.linalg.lstsq(np.hstack([pca_train_rgb, pca_train_hsv]), y_train, rcond=True)[0]"
   ]
  },
  {
   "cell_type": "code",
   "execution_count": 29,
   "metadata": {},
   "outputs": [],
   "source": [
    "# val_pred = np.hstack([pca_val_rgb, pca_val_hsv]).dot(coef)\n",
    "# val_pred -= val_pred.min()\n",
    "# val_pred /= val_pred.max()\n",
    "# roc_auc_score(y_val,  val_pred)"
   ]
  },
  {
   "cell_type": "code",
   "execution_count": 30,
   "metadata": {},
   "outputs": [],
   "source": [
    "test_pred = np.hstack([pca_test_rgb, pca_test_hsv]).dot(coef)\n",
    "test_pred -= test_pred.min()\n",
    "test_pred /= test_pred.max()"
   ]
  },
  {
   "cell_type": "code",
   "execution_count": 31,
   "metadata": {},
   "outputs": [],
   "source": [
    "pd.DataFrame({'image_number': [i.replace('.jpg', '') for i in test_images], \n",
    "              'prob_outdoor': test_pred }).to_csv('sub.csv', index=None)"
   ]
  },
  {
   "cell_type": "code",
   "execution_count": null,
   "metadata": {},
   "outputs": [],
   "source": []
  }
 ],
 "metadata": {
  "kernelspec": {
   "display_name": "Python 3",
   "language": "python",
   "name": "python3"
  },
  "language_info": {
   "codemirror_mode": {
    "name": "ipython",
    "version": 3
   },
   "file_extension": ".py",
   "mimetype": "text/x-python",
   "name": "python",
   "nbconvert_exporter": "python",
   "pygments_lexer": "ipython3",
   "version": "3.6.7"
  }
 },
 "nbformat": 4,
 "nbformat_minor": 2
}
